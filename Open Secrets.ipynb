{
 "cells": [
  {
   "cell_type": "code",
   "execution_count": 1,
   "metadata": {},
   "outputs": [],
   "source": [
    "import pandas as pd\n",
    "from crpapi import CRP"
   ]
  },
  {
   "cell_type": "markdown",
   "metadata": {},
   "source": [
    "## Read API Credentials \n",
    "\n",
    "Get an [API Key from Center for Responsive Politics](https://www.opensecrets.org/api/admin/index.php?function=signup), and save it to a file called `credentials.txt` in this same folder. "
   ]
  },
  {
   "cell_type": "code",
   "execution_count": 3,
   "metadata": {},
   "outputs": [],
   "source": [
    "credentials_file = open(\"credentials.txt\",\"r\")\n",
    "credentials = credentials_file.read()\n",
    "credentials_file.close()"
   ]
  },
  {
   "cell_type": "markdown",
   "metadata": {},
   "source": [
    "Create instance of CRP. Documentation on [OpenSecrets CRP API](https://github.com/robrem/opensecrets-crpapi)."
   ]
  },
  {
   "cell_type": "code",
   "execution_count": 5,
   "metadata": {},
   "outputs": [],
   "source": [
    "crp = CRP(credentials)"
   ]
  },
  {
   "cell_type": "markdown",
   "metadata": {},
   "source": [
    "Methods include:\n",
    "\n",
    "* `crp.candidates.get('N00007360')` # get a specific legislator by CID\n",
    "* `crp.candidates.contrib('N00007360', '2016')` # get the top contributors to a candidate for a specific cycle\n",
    "* `cmte = crp.committees.cmte_by_ind('HARM', 'F10')` # get fundraising information for a committee's members, by industry\n",
    "\n",
    "Fetch endpoints directly.\n",
    "\n",
    "`summ = crp.fetch('candSummary', cid='N00007360')` You can [see endpoints here](https://www.opensecrets.org/open-data/api-documentation)."
   ]
  },
  {
   "cell_type": "code",
   "execution_count": 6,
   "metadata": {},
   "outputs": [
    {
     "data": {
      "text/plain": [
       "{'@attributes': {'cid': 'N00007360',\n",
       "  'firstlast': 'Nancy Pelosi',\n",
       "  'lastname': 'PELOSI',\n",
       "  'party': 'D',\n",
       "  'office': 'CA12',\n",
       "  'gender': 'F',\n",
       "  'first_elected': '1987',\n",
       "  'exit_code': '0',\n",
       "  'comments': '',\n",
       "  'phone': '202-225-4965',\n",
       "  'fax': '202-225-8259',\n",
       "  'website': 'http://pelosi.house.gov',\n",
       "  'webform': 'http://pelosi.house.gov/contact-me/email-me',\n",
       "  'congress_office': '233 Cannon House Office Building',\n",
       "  'bioguide_id': 'P000197',\n",
       "  'votesmart_id': '26732',\n",
       "  'feccandid': 'H8CA05035',\n",
       "  'twitter_id': 'NancyPelosi',\n",
       "  'youtube_url': 'https://youtube.com/nancypelosi',\n",
       "  'facebook_id': 'NancyPelosi',\n",
       "  'birthdate': '1940-03-26'}}"
      ]
     },
     "execution_count": 6,
     "metadata": {},
     "output_type": "execute_result"
    }
   ],
   "source": [
    "cand = crp.candidates.get('N00007360')\n",
    "cand"
   ]
  },
  {
   "cell_type": "code",
   "execution_count": 9,
   "metadata": {},
   "outputs": [
    {
     "data": {
      "text/plain": [
       "[{'@attributes': {'orgid': 'D000000619', 'orgname': 'Target Corp'}},\n",
       " {'@attributes': {'orgid': 'D000069807', 'orgname': 'Target Enterprises'}},\n",
       " {'@attributes': {'orgid': 'D000057411',\n",
       "   'orgname': 'Target Financial Services'}},\n",
       " {'@attributes': {'orgid': 'D000070064', 'orgname': 'Target Lodging'}},\n",
       " {'@attributes': {'orgid': 'D000057412', 'orgname': 'Targeted Growth'}},\n",
       " {'@attributes': {'orgid': 'D000069806', 'orgname': 'Targeted Victory'}},\n",
       " {'@attributes': {'orgid': 'D000070549', 'orgname': 'TargetPoint Consulting'}}]"
      ]
     },
     "execution_count": 9,
     "metadata": {},
     "output_type": "execute_result"
    }
   ],
   "source": [
    "org = crp.orgs.get('Target')\n",
    "org"
   ]
  },
  {
   "cell_type": "code",
   "execution_count": 10,
   "metadata": {},
   "outputs": [
    {
     "data": {
      "text/plain": [
       "{'cycle': '2020',\n",
       " 'orgid': 'D000000619',\n",
       " 'orgname': 'Target Corp',\n",
       " 'total': '464197',\n",
       " 'indivs': '177677',\n",
       " 'pacs': '286000',\n",
       " 'soft': '520',\n",
       " 'tot527': '0',\n",
       " 'dems': '287279',\n",
       " 'repubs': '175997',\n",
       " 'lobbying': '1520000',\n",
       " 'outside': '0',\n",
       " 'mems_invested': '0',\n",
       " 'gave_to_pac': '0',\n",
       " 'gave_to_party': '61975',\n",
       " 'gave_to_527': '0',\n",
       " 'gave_to_cand': '352192',\n",
       " 'source': 'www.opensecrets.org/orgs/summary.php?id=D000000619'}"
      ]
     },
     "execution_count": 10,
     "metadata": {},
     "output_type": "execute_result"
    }
   ],
   "source": [
    "getTarget = crp.orgs.summary('D000000619')\n",
    "getTarget"
   ]
  },
  {
   "cell_type": "markdown",
   "metadata": {},
   "source": [
    "Convert to Pandas DataFrame."
   ]
  },
  {
   "cell_type": "code",
   "execution_count": 12,
   "metadata": {},
   "outputs": [
    {
     "data": {
      "text/html": [
       "<div>\n",
       "<style scoped>\n",
       "    .dataframe tbody tr th:only-of-type {\n",
       "        vertical-align: middle;\n",
       "    }\n",
       "\n",
       "    .dataframe tbody tr th {\n",
       "        vertical-align: top;\n",
       "    }\n",
       "\n",
       "    .dataframe thead th {\n",
       "        text-align: right;\n",
       "    }\n",
       "</style>\n",
       "<table border=\"1\" class=\"dataframe\">\n",
       "  <thead>\n",
       "    <tr style=\"text-align: right;\">\n",
       "      <th></th>\n",
       "      <th>cycle</th>\n",
       "      <th>orgid</th>\n",
       "      <th>orgname</th>\n",
       "      <th>total</th>\n",
       "      <th>indivs</th>\n",
       "      <th>pacs</th>\n",
       "      <th>soft</th>\n",
       "      <th>tot527</th>\n",
       "      <th>dems</th>\n",
       "      <th>repubs</th>\n",
       "      <th>lobbying</th>\n",
       "      <th>outside</th>\n",
       "      <th>mems_invested</th>\n",
       "      <th>gave_to_pac</th>\n",
       "      <th>gave_to_party</th>\n",
       "      <th>gave_to_527</th>\n",
       "      <th>gave_to_cand</th>\n",
       "      <th>source</th>\n",
       "    </tr>\n",
       "  </thead>\n",
       "  <tbody>\n",
       "    <tr>\n",
       "      <th>0</th>\n",
       "      <td>2020</td>\n",
       "      <td>D000000619</td>\n",
       "      <td>Target Corp</td>\n",
       "      <td>464197</td>\n",
       "      <td>177677</td>\n",
       "      <td>286000</td>\n",
       "      <td>520</td>\n",
       "      <td>0</td>\n",
       "      <td>287279</td>\n",
       "      <td>175997</td>\n",
       "      <td>1520000</td>\n",
       "      <td>0</td>\n",
       "      <td>0</td>\n",
       "      <td>0</td>\n",
       "      <td>61975</td>\n",
       "      <td>0</td>\n",
       "      <td>352192</td>\n",
       "      <td>www.opensecrets.org/orgs/summary.php?id=D00000...</td>\n",
       "    </tr>\n",
       "  </tbody>\n",
       "</table>\n",
       "</div>"
      ],
      "text/plain": [
       "  cycle       orgid      orgname   total  indivs    pacs soft tot527    dems  \\\n",
       "0  2020  D000000619  Target Corp  464197  177677  286000  520      0  287279   \n",
       "\n",
       "   repubs lobbying outside mems_invested gave_to_pac gave_to_party  \\\n",
       "0  175997  1520000       0             0           0         61975   \n",
       "\n",
       "  gave_to_527 gave_to_cand                                             source  \n",
       "0           0       352192  www.opensecrets.org/orgs/summary.php?id=D00000...  "
      ]
     },
     "execution_count": 12,
     "metadata": {},
     "output_type": "execute_result"
    }
   ],
   "source": [
    "df = pd.json_normalize(getTarget)\n",
    "df"
   ]
  },
  {
   "cell_type": "code",
   "execution_count": null,
   "metadata": {},
   "outputs": [],
   "source": []
  }
 ],
 "metadata": {
  "kernelspec": {
   "display_name": "Python 3",
   "language": "python",
   "name": "python3"
  },
  "language_info": {
   "codemirror_mode": {
    "name": "ipython",
    "version": 3
   },
   "file_extension": ".py",
   "mimetype": "text/x-python",
   "name": "python",
   "nbconvert_exporter": "python",
   "pygments_lexer": "ipython3",
   "version": "3.6.8"
  }
 },
 "nbformat": 4,
 "nbformat_minor": 4
}
